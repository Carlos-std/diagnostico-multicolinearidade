{
 "cells": [
  {
   "cell_type": "code",
   "execution_count": 1,
   "id": "53110772",
   "metadata": {},
   "outputs": [],
   "source": [
    "import pandas as pd # manipulação de dado em formato de dataframe\n",
    "import seaborn as sns # biblioteca de visualização de informações estatísticas\n",
    "import matplotlib.pyplot as plt # biblioteca de visualização de dados\n",
    "import statsmodels.api as sm # biblioteca de modelagem estatística\n",
    "import numpy as np # biblioteca para operações matemáticas multidimensionais\n",
    "from statsmodels.iolib.summary2 import summary_col\n",
    "from skimage import io\n",
    "import plotly.graph_objs as go\n",
    "from scipy.stats import pearsonr\n",
    "from sklearn.preprocessing import LabelEncoder\n",
    "import pyreadr"
   ]
  },
  {
   "cell_type": "code",
   "execution_count": 2,
   "id": "f04ddba2",
   "metadata": {},
   "outputs": [
    {
     "name": "stdout",
     "output_type": "stream",
     "text": [
      "       nome      salario  rh1  econometria1  rh2  econometria2   rh3  \\\n",
      "0  Patricia  2525.340820  9.0          4.50  9.0          4.50   3.0   \n",
      "1      Luiz  2498.574951  8.0          4.00  8.0          4.00   7.0   \n",
      "2    Dalila  2364.686768  9.5          4.75  9.5          4.75  10.0   \n",
      "3    Leonor  1981.349854  7.0          3.50  7.0          3.50  10.0   \n",
      "4    Ovidio  1892.807983  6.0          3.00  6.0          3.10   7.0   \n",
      "\n",
      "   econometria3  \n",
      "0           9.0  \n",
      "1           8.0  \n",
      "2           9.5  \n",
      "3           7.0  \n",
      "4           6.0  \n"
     ]
    }
   ],
   "source": [
    "# Carregar o arquivo RData\n",
    "result = pyreadr.read_r('salarios.RData')\n",
    "\n",
    "# Extrair o DataFrame\n",
    "df_salarios = result['salarios']\n",
    "\n",
    "# Agora, df é um DataFrame do pandas\n",
    "print(df_salarios.head())"
   ]
  },
  {
   "cell_type": "code",
   "execution_count": 3,
   "id": "7c6133ca",
   "metadata": {},
   "outputs": [
    {
     "name": "stdout",
     "output_type": "stream",
     "text": [
      "<class 'pandas.core.frame.DataFrame'>\n",
      "RangeIndex: 15 entries, 0 to 14\n",
      "Data columns (total 8 columns):\n",
      " #   Column        Non-Null Count  Dtype  \n",
      "---  ------        --------------  -----  \n",
      " 0   nome          15 non-null     object \n",
      " 1   salario       15 non-null     float64\n",
      " 2   rh1           15 non-null     float64\n",
      " 3   econometria1  15 non-null     float64\n",
      " 4   rh2           15 non-null     float64\n",
      " 5   econometria2  15 non-null     float64\n",
      " 6   rh3           15 non-null     float64\n",
      " 7   econometria3  15 non-null     float64\n",
      "dtypes: float64(7), object(1)\n",
      "memory usage: 1.1+ KB\n"
     ]
    }
   ],
   "source": [
    "#Características das variáveis do dataset\n",
    "df_salarios.info()"
   ]
  },
  {
   "cell_type": "code",
   "execution_count": 4,
   "id": "1c3f1f90",
   "metadata": {},
   "outputs": [
    {
     "data": {
      "text/html": [
       "<div>\n",
       "<style scoped>\n",
       "    .dataframe tbody tr th:only-of-type {\n",
       "        vertical-align: middle;\n",
       "    }\n",
       "\n",
       "    .dataframe tbody tr th {\n",
       "        vertical-align: top;\n",
       "    }\n",
       "\n",
       "    .dataframe thead th {\n",
       "        text-align: right;\n",
       "    }\n",
       "</style>\n",
       "<table border=\"1\" class=\"dataframe\">\n",
       "  <thead>\n",
       "    <tr style=\"text-align: right;\">\n",
       "      <th></th>\n",
       "      <th>salario</th>\n",
       "      <th>rh1</th>\n",
       "      <th>econometria1</th>\n",
       "      <th>rh2</th>\n",
       "      <th>econometria2</th>\n",
       "      <th>rh3</th>\n",
       "      <th>econometria3</th>\n",
       "    </tr>\n",
       "  </thead>\n",
       "  <tbody>\n",
       "    <tr>\n",
       "      <th>count</th>\n",
       "      <td>15.000000</td>\n",
       "      <td>15.000000</td>\n",
       "      <td>15.000000</td>\n",
       "      <td>15.000000</td>\n",
       "      <td>15.000000</td>\n",
       "      <td>15.000000</td>\n",
       "      <td>15.000000</td>\n",
       "    </tr>\n",
       "    <tr>\n",
       "      <th>mean</th>\n",
       "      <td>2032.150578</td>\n",
       "      <td>6.400000</td>\n",
       "      <td>3.200000</td>\n",
       "      <td>6.400000</td>\n",
       "      <td>3.240000</td>\n",
       "      <td>7.180000</td>\n",
       "      <td>6.400000</td>\n",
       "    </tr>\n",
       "    <tr>\n",
       "      <th>std</th>\n",
       "      <td>312.507361</td>\n",
       "      <td>2.221647</td>\n",
       "      <td>1.110823</td>\n",
       "      <td>2.221647</td>\n",
       "      <td>1.061367</td>\n",
       "      <td>3.169317</td>\n",
       "      <td>2.221647</td>\n",
       "    </tr>\n",
       "    <tr>\n",
       "      <th>min</th>\n",
       "      <td>1505.627563</td>\n",
       "      <td>3.000000</td>\n",
       "      <td>1.500000</td>\n",
       "      <td>3.000000</td>\n",
       "      <td>1.500000</td>\n",
       "      <td>1.400000</td>\n",
       "      <td>3.000000</td>\n",
       "    </tr>\n",
       "    <tr>\n",
       "      <th>25%</th>\n",
       "      <td>1870.515320</td>\n",
       "      <td>4.500000</td>\n",
       "      <td>2.250000</td>\n",
       "      <td>4.500000</td>\n",
       "      <td>2.250000</td>\n",
       "      <td>4.450000</td>\n",
       "      <td>4.500000</td>\n",
       "    </tr>\n",
       "    <tr>\n",
       "      <th>50%</th>\n",
       "      <td>2001.654297</td>\n",
       "      <td>7.000000</td>\n",
       "      <td>3.500000</td>\n",
       "      <td>7.000000</td>\n",
       "      <td>3.500000</td>\n",
       "      <td>8.000000</td>\n",
       "      <td>7.000000</td>\n",
       "    </tr>\n",
       "    <tr>\n",
       "      <th>75%</th>\n",
       "      <td>2219.607788</td>\n",
       "      <td>8.000000</td>\n",
       "      <td>4.000000</td>\n",
       "      <td>8.000000</td>\n",
       "      <td>4.000000</td>\n",
       "      <td>9.950000</td>\n",
       "      <td>8.000000</td>\n",
       "    </tr>\n",
       "    <tr>\n",
       "      <th>max</th>\n",
       "      <td>2525.340820</td>\n",
       "      <td>9.500000</td>\n",
       "      <td>4.750000</td>\n",
       "      <td>9.500000</td>\n",
       "      <td>4.750000</td>\n",
       "      <td>10.000000</td>\n",
       "      <td>9.500000</td>\n",
       "    </tr>\n",
       "  </tbody>\n",
       "</table>\n",
       "</div>"
      ],
      "text/plain": [
       "           salario        rh1  econometria1        rh2  econometria2  \\\n",
       "count    15.000000  15.000000     15.000000  15.000000     15.000000   \n",
       "mean   2032.150578   6.400000      3.200000   6.400000      3.240000   \n",
       "std     312.507361   2.221647      1.110823   2.221647      1.061367   \n",
       "min    1505.627563   3.000000      1.500000   3.000000      1.500000   \n",
       "25%    1870.515320   4.500000      2.250000   4.500000      2.250000   \n",
       "50%    2001.654297   7.000000      3.500000   7.000000      3.500000   \n",
       "75%    2219.607788   8.000000      4.000000   8.000000      4.000000   \n",
       "max    2525.340820   9.500000      4.750000   9.500000      4.750000   \n",
       "\n",
       "             rh3  econometria3  \n",
       "count  15.000000     15.000000  \n",
       "mean    7.180000      6.400000  \n",
       "std     3.169317      2.221647  \n",
       "min     1.400000      3.000000  \n",
       "25%     4.450000      4.500000  \n",
       "50%     8.000000      7.000000  \n",
       "75%     9.950000      8.000000  \n",
       "max    10.000000      9.500000  "
      ]
     },
     "execution_count": 4,
     "metadata": {},
     "output_type": "execute_result"
    }
   ],
   "source": [
    "#Estatísticas univariadas\n",
    "df_salarios.describe()"
   ]
  },
  {
   "cell_type": "code",
   "execution_count": 5,
   "id": "178a4d04",
   "metadata": {},
   "outputs": [
    {
     "data": {
      "text/plain": [
       "<Axes: >"
      ]
     },
     "execution_count": 5,
     "metadata": {},
     "output_type": "execute_result"
    },
    {
     "data": {
      "image/png": "[encoded data removed]",
      "text/plain": [
       "<Figure size 1500x1000 with 2 Axes>"
      ]
     },
     "metadata": {},
     "output_type": "display_data"
    }
   ],
   "source": [
    "# In[ ]: CORRELAÇÃO PERFEITA:\n",
    "\n",
    "corr1 = df_salarios[['rh1','econometria1']].corr()\n",
    "corr1\n",
    "\n",
    "plt.figure(figsize=(15,10))\n",
    "sns.heatmap(corr1, annot=True, cmap = plt.cm.viridis,\n",
    "            annot_kws={'size':27})"
   ]
  },
  {
   "cell_type": "code",
   "execution_count": 6,
   "id": "9fc45fdd",
   "metadata": {},
   "outputs": [],
   "source": [
    "# Estimando um modelo com variáveis preditoras com correlação perfeita\n",
    "modelo_1 = sm.OLS.from_formula('salario ~ rh1 + econometria1',\n",
    "                               df_salarios).fit()"
   ]
  },
  {
   "cell_type": "code",
   "execution_count": 7,
   "id": "0d34e32c",
   "metadata": {},
   "outputs": [
    {
     "name": "stderr",
     "output_type": "stream",
     "text": [
      "C:\\Users\\carlo\\anaconda3\\lib\\site-packages\\scipy\\stats\\_stats_py.py:1736: UserWarning: kurtosistest only valid for n>=20 ... continuing anyway, n=15\n",
      "  warnings.warn(\"kurtosistest only valid for n>=20 ... continuing \"\n"
     ]
    },
    {
     "data": {
      "text/html": [
       "<table class=\"simpletable\">\n",
       "<caption>OLS Regression Results</caption>\n",
       "<tr>\n",
       "  <th>Dep. Variable:</th>         <td>salario</td>     <th>  R-squared:         </th> <td>   0.826</td>\n",
       "</tr>\n",
       "<tr>\n",
       "  <th>Model:</th>                   <td>OLS</td>       <th>  Adj. R-squared:    </th> <td>   0.813</td>\n",
       "</tr>\n",
       "<tr>\n",
       "  <th>Method:</th>             <td>Least Squares</td>  <th>  F-statistic:       </th> <td>   61.85</td>\n",
       "</tr>\n",
       "<tr>\n",
       "  <th>Date:</th>             <td>Wed, 08 May 2024</td> <th>  Prob (F-statistic):</th> <td>2.69e-06</td>\n",
       "</tr>\n",
       "<tr>\n",
       "  <th>Time:</th>                 <td>19:34:02</td>     <th>  Log-Likelihood:    </th> <td> -93.807</td>\n",
       "</tr>\n",
       "<tr>\n",
       "  <th>No. Observations:</th>      <td>    15</td>      <th>  AIC:               </th> <td>   191.6</td>\n",
       "</tr>\n",
       "<tr>\n",
       "  <th>Df Residuals:</th>          <td>    13</td>      <th>  BIC:               </th> <td>   193.0</td>\n",
       "</tr>\n",
       "<tr>\n",
       "  <th>Df Model:</th>              <td>     1</td>      <th>                     </th>     <td> </td>   \n",
       "</tr>\n",
       "<tr>\n",
       "  <th>Covariance Type:</th>      <td>nonrobust</td>    <th>                     </th>     <td> </td>   \n",
       "</tr>\n",
       "</table>\n",
       "<table class=\"simpletable\">\n",
       "<tr>\n",
       "        <td></td>          <th>coef</th>     <th>std err</th>      <th>t</th>      <th>P>|t|</th>  <th>[0.025</th>    <th>0.975]</th>  \n",
       "</tr>\n",
       "<tr>\n",
       "  <th>Intercept</th>    <td> 1213.7997</td> <td>  109.752</td> <td>   11.060</td> <td> 0.000</td> <td>  976.696</td> <td> 1450.904</td>\n",
       "</tr>\n",
       "<tr>\n",
       "  <th>rh1</th>          <td>  102.2939</td> <td>   13.007</td> <td>    7.865</td> <td> 0.000</td> <td>   74.194</td> <td>  130.394</td>\n",
       "</tr>\n",
       "<tr>\n",
       "  <th>econometria1</th> <td>   51.1469</td> <td>    6.504</td> <td>    7.865</td> <td> 0.000</td> <td>   37.097</td> <td>   65.197</td>\n",
       "</tr>\n",
       "</table>\n",
       "<table class=\"simpletable\">\n",
       "<tr>\n",
       "  <th>Omnibus:</th>       <td> 2.049</td> <th>  Durbin-Watson:     </th> <td>   1.560</td>\n",
       "</tr>\n",
       "<tr>\n",
       "  <th>Prob(Omnibus):</th> <td> 0.359</td> <th>  Jarque-Bera (JB):  </th> <td>   1.492</td>\n",
       "</tr>\n",
       "<tr>\n",
       "  <th>Skew:</th>          <td> 0.601</td> <th>  Prob(JB):          </th> <td>   0.474</td>\n",
       "</tr>\n",
       "<tr>\n",
       "  <th>Kurtosis:</th>      <td> 2.028</td> <th>  Cond. No.          </th> <td>2.30e+16</td>\n",
       "</tr>\n",
       "</table><br/><br/>Notes:<br/>[1] Standard Errors assume that the covariance matrix of the errors is correctly specified.<br/>[2] The smallest eigenvalue is 1.64e-30. This might indicate that there are<br/>strong multicollinearity problems or that the design matrix is singular."
      ],
      "text/plain": [
       "<class 'statsmodels.iolib.summary.Summary'>\n",
       "\"\"\"\n",
       "                            OLS Regression Results                            \n",
       "==============================================================================\n",
       "Dep. Variable:                salario   R-squared:                       0.826\n",
       "Model:                            OLS   Adj. R-squared:                  0.813\n",
       "Method:                 Least Squares   F-statistic:                     61.85\n",
       "Date:                Wed, 08 May 2024   Prob (F-statistic):           2.69e-06\n",
       "Time:                        19:34:02   Log-Likelihood:                -93.807\n",
       "No. Observations:                  15   AIC:                             191.6\n",
       "Df Residuals:                      13   BIC:                             193.0\n",
       "Df Model:                           1                                         \n",
       "Covariance Type:            nonrobust                                         \n",
       "================================================================================\n",
       "                   coef    std err          t      P>|t|      [0.025      0.975]\n",
       "--------------------------------------------------------------------------------\n",
       "Intercept     1213.7997    109.752     11.060      0.000     976.696    1450.904\n",
       "rh1            102.2939     13.007      7.865      0.000      74.194     130.394\n",
       "econometria1    51.1469      6.504      7.865      0.000      37.097      65.197\n",
       "==============================================================================\n",
       "Omnibus:                        2.049   Durbin-Watson:                   1.560\n",
       "Prob(Omnibus):                  0.359   Jarque-Bera (JB):                1.492\n",
       "Skew:                           0.601   Prob(JB):                        0.474\n",
       "Kurtosis:                       2.028   Cond. No.                     2.30e+16\n",
       "==============================================================================\n",
       "\n",
       "Notes:\n",
       "[1] Standard Errors assume that the covariance matrix of the errors is correctly specified.\n",
       "[2] The smallest eigenvalue is 1.64e-30. This might indicate that there are\n",
       "strong multicollinearity problems or that the design matrix is singular.\n",
       "\"\"\""
      ]
     },
     "execution_count": 7,
     "metadata": {},
     "output_type": "execute_result"
    }
   ],
   "source": [
    "# Parâmetros do modelo\n",
    "modelo_1.summary()"
   ]
  },
  {
   "cell_type": "code",
   "execution_count": 8,
   "id": "c0586e2b",
   "metadata": {},
   "outputs": [
    {
     "data": {
      "text/plain": [
       "<Axes: >"
      ]
     },
     "execution_count": 8,
     "metadata": {},
     "output_type": "execute_result"
    },
    {
     "data": {
      "image/png": "[encoded data removed]",
      "text/plain": [
       "<Figure size 1500x1000 with 2 Axes>"
      ]
     },
     "metadata": {},
     "output_type": "display_data"
    }
   ],
   "source": [
    "# In[ ]: CORRELAÇÃO BAIXA:\n",
    "\n",
    "corr3 = df_salarios[['rh3','econometria3']].corr()\n",
    "corr3\n",
    "\n",
    "plt.figure(figsize=(15,10))\n",
    "sns.heatmap(corr3, annot=True, cmap = plt.cm.viridis,\n",
    "            annot_kws={'size':27})"
   ]
  },
  {
   "cell_type": "code",
   "execution_count": 9,
   "id": "2e5c85eb",
   "metadata": {},
   "outputs": [],
   "source": [
    "# Estimando um modelo com variáveis preditoras com correlação baixa\n",
    "modelo_3 = sm.OLS.from_formula('salario ~ rh3 + econometria3',\n",
    "                               df_salarios).fit()"
   ]
  },
  {
   "cell_type": "code",
   "execution_count": 10,
   "id": "d7e360af",
   "metadata": {},
   "outputs": [
    {
     "name": "stderr",
     "output_type": "stream",
     "text": [
      "C:\\Users\\carlo\\anaconda3\\lib\\site-packages\\scipy\\stats\\_stats_py.py:1736: UserWarning: kurtosistest only valid for n>=20 ... continuing anyway, n=15\n",
      "  warnings.warn(\"kurtosistest only valid for n>=20 ... continuing \"\n"
     ]
    },
    {
     "data": {
      "text/html": [
       "<table class=\"simpletable\">\n",
       "<caption>OLS Regression Results</caption>\n",
       "<tr>\n",
       "  <th>Dep. Variable:</th>         <td>salario</td>     <th>  R-squared:         </th> <td>   0.827</td>\n",
       "</tr>\n",
       "<tr>\n",
       "  <th>Model:</th>                   <td>OLS</td>       <th>  Adj. R-squared:    </th> <td>   0.799</td>\n",
       "</tr>\n",
       "<tr>\n",
       "  <th>Method:</th>             <td>Least Squares</td>  <th>  F-statistic:       </th> <td>   28.77</td>\n",
       "</tr>\n",
       "<tr>\n",
       "  <th>Date:</th>             <td>Wed, 08 May 2024</td> <th>  Prob (F-statistic):</th> <td>2.64e-05</td>\n",
       "</tr>\n",
       "<tr>\n",
       "  <th>Time:</th>                 <td>19:34:03</td>     <th>  Log-Likelihood:    </th> <td> -93.759</td>\n",
       "</tr>\n",
       "<tr>\n",
       "  <th>No. Observations:</th>      <td>    15</td>      <th>  AIC:               </th> <td>   193.5</td>\n",
       "</tr>\n",
       "<tr>\n",
       "  <th>Df Residuals:</th>          <td>    12</td>      <th>  BIC:               </th> <td>   195.6</td>\n",
       "</tr>\n",
       "<tr>\n",
       "  <th>Df Model:</th>              <td>     2</td>      <th>                     </th>     <td> </td>   \n",
       "</tr>\n",
       "<tr>\n",
       "  <th>Covariance Type:</th>      <td>nonrobust</td>    <th>                     </th>     <td> </td>   \n",
       "</tr>\n",
       "</table>\n",
       "<table class=\"simpletable\">\n",
       "<tr>\n",
       "        <td></td>          <th>coef</th>     <th>std err</th>      <th>t</th>      <th>P>|t|</th>  <th>[0.025</th>    <th>0.975]</th>  \n",
       "</tr>\n",
       "<tr>\n",
       "  <th>Intercept</th>    <td> 1246.6172</td> <td>  163.783</td> <td>    7.611</td> <td> 0.000</td> <td>  889.765</td> <td> 1603.469</td>\n",
       "</tr>\n",
       "<tr>\n",
       "  <th>rh3</th>          <td>   -3.4184</td> <td>   12.263</td> <td>   -0.279</td> <td> 0.785</td> <td>  -30.137</td> <td>   23.300</td>\n",
       "</tr>\n",
       "<tr>\n",
       "  <th>econometria3</th> <td>  126.5746</td> <td>   17.494</td> <td>    7.235</td> <td> 0.000</td> <td>   88.459</td> <td>  164.691</td>\n",
       "</tr>\n",
       "</table>\n",
       "<table class=\"simpletable\">\n",
       "<tr>\n",
       "  <th>Omnibus:</th>       <td> 1.817</td> <th>  Durbin-Watson:     </th> <td>   1.536</td>\n",
       "</tr>\n",
       "<tr>\n",
       "  <th>Prob(Omnibus):</th> <td> 0.403</td> <th>  Jarque-Bera (JB):  </th> <td>   1.396</td>\n",
       "</tr>\n",
       "<tr>\n",
       "  <th>Skew:</th>          <td> 0.597</td> <th>  Prob(JB):          </th> <td>   0.498</td>\n",
       "</tr>\n",
       "<tr>\n",
       "  <th>Kurtosis:</th>      <td> 2.101</td> <th>  Cond. No.          </th> <td>    45.3</td>\n",
       "</tr>\n",
       "</table><br/><br/>Notes:<br/>[1] Standard Errors assume that the covariance matrix of the errors is correctly specified."
      ],
      "text/plain": [
       "<class 'statsmodels.iolib.summary.Summary'>\n",
       "\"\"\"\n",
       "                            OLS Regression Results                            \n",
       "==============================================================================\n",
       "Dep. Variable:                salario   R-squared:                       0.827\n",
       "Model:                            OLS   Adj. R-squared:                  0.799\n",
       "Method:                 Least Squares   F-statistic:                     28.77\n",
       "Date:                Wed, 08 May 2024   Prob (F-statistic):           2.64e-05\n",
       "Time:                        19:34:03   Log-Likelihood:                -93.759\n",
       "No. Observations:                  15   AIC:                             193.5\n",
       "Df Residuals:                      12   BIC:                             195.6\n",
       "Df Model:                           2                                         \n",
       "Covariance Type:            nonrobust                                         \n",
       "================================================================================\n",
       "                   coef    std err          t      P>|t|      [0.025      0.975]\n",
       "--------------------------------------------------------------------------------\n",
       "Intercept     1246.6172    163.783      7.611      0.000     889.765    1603.469\n",
       "rh3             -3.4184     12.263     -0.279      0.785     -30.137      23.300\n",
       "econometria3   126.5746     17.494      7.235      0.000      88.459     164.691\n",
       "==============================================================================\n",
       "Omnibus:                        1.817   Durbin-Watson:                   1.536\n",
       "Prob(Omnibus):                  0.403   Jarque-Bera (JB):                1.396\n",
       "Skew:                           0.597   Prob(JB):                        0.498\n",
       "Kurtosis:                       2.101   Cond. No.                         45.3\n",
       "==============================================================================\n",
       "\n",
       "Notes:\n",
       "[1] Standard Errors assume that the covariance matrix of the errors is correctly specified.\n",
       "\"\"\""
      ]
     },
     "execution_count": 10,
     "metadata": {},
     "output_type": "execute_result"
    }
   ],
   "source": [
    "# Parâmetros do modelo\n",
    "modelo_3.summary()"
   ]
  },
  {
   "cell_type": "code",
   "execution_count": 11,
   "id": "3516655b",
   "metadata": {},
   "outputs": [
    {
     "data": {
      "text/html": [
       "<div>\n",
       "<style scoped>\n",
       "    .dataframe tbody tr th:only-of-type {\n",
       "        vertical-align: middle;\n",
       "    }\n",
       "\n",
       "    .dataframe tbody tr th {\n",
       "        vertical-align: top;\n",
       "    }\n",
       "\n",
       "    .dataframe thead th {\n",
       "        text-align: right;\n",
       "    }\n",
       "</style>\n",
       "<table border=\"1\" class=\"dataframe\">\n",
       "  <thead>\n",
       "    <tr style=\"text-align: right;\">\n",
       "      <th></th>\n",
       "      <th>VIF</th>\n",
       "      <th>Tolerance</th>\n",
       "    </tr>\n",
       "  </thead>\n",
       "  <tbody>\n",
       "    <tr>\n",
       "      <th>const</th>\n",
       "      <td>20.465195</td>\n",
       "      <td>0.048863</td>\n",
       "    </tr>\n",
       "    <tr>\n",
       "      <th>rh3</th>\n",
       "      <td>1.075576</td>\n",
       "      <td>0.929735</td>\n",
       "    </tr>\n",
       "    <tr>\n",
       "      <th>econometria3</th>\n",
       "      <td>1.075576</td>\n",
       "      <td>0.929735</td>\n",
       "    </tr>\n",
       "  </tbody>\n",
       "</table>\n",
       "</div>"
      ],
      "text/plain": [
       "                    VIF  Tolerance\n",
       "const         20.465195   0.048863\n",
       "rh3            1.075576   0.929735\n",
       "econometria3   1.075576   0.929735"
      ]
     },
     "execution_count": 11,
     "metadata": {},
     "output_type": "execute_result"
    }
   ],
   "source": [
    "# Diagnóstico de multicolinearidade (Variance Inflation Factor e Tolerance)\n",
    "\n",
    "from statsmodels.stats.outliers_influence import variance_inflation_factor\n",
    "\n",
    "X = df_salarios[['rh3','econometria3']]\n",
    "X = sm.add_constant(X)\n",
    "\n",
    "vif = pd.Series([variance_inflation_factor(X.values, i)\n",
    "                 for i in range(X.shape[1])],index=X.columns)\n",
    "vif\n",
    "\n",
    "tolerance = 1/vif\n",
    "tolerance\n",
    "\n",
    "pd.concat([vif,tolerance], axis=1, keys=['VIF', 'Tolerance'])"
   ]
  },
  {
   "cell_type": "code",
   "execution_count": 12,
   "id": "88da4956",
   "metadata": {},
   "outputs": [
    {
     "data": {
      "text/plain": [
       "<Axes: >"
      ]
     },
     "execution_count": 12,
     "metadata": {},
     "output_type": "execute_result"
    },
    {
     "data": {
      "image/png": "[encoded data removed]",
      "text/plain": [
       "<Figure size 1500x1000 with 2 Axes>"
      ]
     },
     "metadata": {},
     "output_type": "display_data"
    }
   ],
   "source": [
    "# In[ ]: CORRELAÇÃO MUITO ALTA, PORÉM NÃO PERFEITA:\n",
    "\n",
    "corr2 = df_salarios[['rh2','econometria2']].corr()\n",
    "corr2\n",
    "\n",
    "plt.figure(figsize=(15,10))\n",
    "sns.heatmap(corr2, annot=True, cmap = plt.cm.viridis,\n",
    "            annot_kws={'size':27})\n"
   ]
  },
  {
   "cell_type": "code",
   "execution_count": 13,
   "id": "b4bd7640",
   "metadata": {},
   "outputs": [],
   "source": [
    "# Estimando um modelo com variáveis preditoras com correlação quase perfeita\n",
    "modelo_2 = sm.OLS.from_formula('salario ~ rh2 + econometria2',\n",
    "                               df_salarios).fit()\n"
   ]
  },
  {
   "cell_type": "code",
   "execution_count": 14,
   "id": "d209666b",
   "metadata": {},
   "outputs": [
    {
     "name": "stderr",
     "output_type": "stream",
     "text": [
      "C:\\Users\\carlo\\anaconda3\\lib\\site-packages\\scipy\\stats\\_stats_py.py:1736: UserWarning: kurtosistest only valid for n>=20 ... continuing anyway, n=15\n",
      "  warnings.warn(\"kurtosistest only valid for n>=20 ... continuing \"\n"
     ]
    },
    {
     "data": {
      "text/html": [
       "<table class=\"simpletable\">\n",
       "<caption>OLS Regression Results</caption>\n",
       "<tr>\n",
       "  <th>Dep. Variable:</th>         <td>salario</td>     <th>  R-squared:         </th> <td>   0.829</td>\n",
       "</tr>\n",
       "<tr>\n",
       "  <th>Model:</th>                   <td>OLS</td>       <th>  Adj. R-squared:    </th> <td>   0.801</td>\n",
       "</tr>\n",
       "<tr>\n",
       "  <th>Method:</th>             <td>Least Squares</td>  <th>  F-statistic:       </th> <td>   29.10</td>\n",
       "</tr>\n",
       "<tr>\n",
       "  <th>Date:</th>             <td>Wed, 08 May 2024</td> <th>  Prob (F-statistic):</th> <td>2.50e-05</td>\n",
       "</tr>\n",
       "<tr>\n",
       "  <th>Time:</th>                 <td>19:41:58</td>     <th>  Log-Likelihood:    </th> <td> -93.688</td>\n",
       "</tr>\n",
       "<tr>\n",
       "  <th>No. Observations:</th>      <td>    15</td>      <th>  AIC:               </th> <td>   193.4</td>\n",
       "</tr>\n",
       "<tr>\n",
       "  <th>Df Residuals:</th>          <td>    12</td>      <th>  BIC:               </th> <td>   195.5</td>\n",
       "</tr>\n",
       "<tr>\n",
       "  <th>Df Model:</th>              <td>     2</td>      <th>                     </th>     <td> </td>   \n",
       "</tr>\n",
       "<tr>\n",
       "  <th>Covariance Type:</th>      <td>nonrobust</td>    <th>                     </th>     <td> </td>   \n",
       "</tr>\n",
       "</table>\n",
       "<table class=\"simpletable\">\n",
       "<tr>\n",
       "        <td></td>          <th>coef</th>     <th>std err</th>      <th>t</th>      <th>P>|t|</th>  <th>[0.025</th>    <th>0.975]</th>  \n",
       "</tr>\n",
       "<tr>\n",
       "  <th>Intercept</th>    <td> 1241.8527</td> <td>  130.172</td> <td>    9.540</td> <td> 0.000</td> <td>  958.233</td> <td> 1525.473</td>\n",
       "</tr>\n",
       "<tr>\n",
       "  <th>rh2</th>          <td>  194.0845</td> <td>  152.087</td> <td>    1.276</td> <td> 0.226</td> <td> -137.285</td> <td>  525.454</td>\n",
       "</tr>\n",
       "<tr>\n",
       "  <th>econometria2</th> <td> -139.4577</td> <td>  318.348</td> <td>   -0.438</td> <td> 0.669</td> <td> -833.079</td> <td>  554.164</td>\n",
       "</tr>\n",
       "</table>\n",
       "<table class=\"simpletable\">\n",
       "<tr>\n",
       "  <th>Omnibus:</th>       <td> 1.720</td> <th>  Durbin-Watson:     </th> <td>   1.616</td>\n",
       "</tr>\n",
       "<tr>\n",
       "  <th>Prob(Omnibus):</th> <td> 0.423</td> <th>  Jarque-Bera (JB):  </th> <td>   1.309</td>\n",
       "</tr>\n",
       "<tr>\n",
       "  <th>Skew:</th>          <td> 0.554</td> <th>  Prob(JB):          </th> <td>   0.520</td>\n",
       "</tr>\n",
       "<tr>\n",
       "  <th>Kurtosis:</th>      <td> 2.068</td> <th>  Cond. No.          </th> <td>    75.8</td>\n",
       "</tr>\n",
       "</table><br/><br/>Notes:<br/>[1] Standard Errors assume that the covariance matrix of the errors is correctly specified."
      ],
      "text/plain": [
       "<class 'statsmodels.iolib.summary.Summary'>\n",
       "\"\"\"\n",
       "                            OLS Regression Results                            \n",
       "==============================================================================\n",
       "Dep. Variable:                salario   R-squared:                       0.829\n",
       "Model:                            OLS   Adj. R-squared:                  0.801\n",
       "Method:                 Least Squares   F-statistic:                     29.10\n",
       "Date:                Wed, 08 May 2024   Prob (F-statistic):           2.50e-05\n",
       "Time:                        19:41:58   Log-Likelihood:                -93.688\n",
       "No. Observations:                  15   AIC:                             193.4\n",
       "Df Residuals:                      12   BIC:                             195.5\n",
       "Df Model:                           2                                         \n",
       "Covariance Type:            nonrobust                                         \n",
       "================================================================================\n",
       "                   coef    std err          t      P>|t|      [0.025      0.975]\n",
       "--------------------------------------------------------------------------------\n",
       "Intercept     1241.8527    130.172      9.540      0.000     958.233    1525.473\n",
       "rh2            194.0845    152.087      1.276      0.226    -137.285     525.454\n",
       "econometria2  -139.4577    318.348     -0.438      0.669    -833.079     554.164\n",
       "==============================================================================\n",
       "Omnibus:                        1.720   Durbin-Watson:                   1.616\n",
       "Prob(Omnibus):                  0.423   Jarque-Bera (JB):                1.309\n",
       "Skew:                           0.554   Prob(JB):                        0.520\n",
       "Kurtosis:                       2.068   Cond. No.                         75.8\n",
       "==============================================================================\n",
       "\n",
       "Notes:\n",
       "[1] Standard Errors assume that the covariance matrix of the errors is correctly specified.\n",
       "\"\"\""
      ]
     },
     "execution_count": 14,
     "metadata": {},
     "output_type": "execute_result"
    }
   ],
   "source": [
    "# Parâmetros do modelo\n",
    "modelo_2.summary()"
   ]
  },
  {
   "cell_type": "code",
   "execution_count": 15,
   "id": "bbb667a9",
   "metadata": {},
   "outputs": [
    {
     "data": {
      "text/html": [
       "<div>\n",
       "<style scoped>\n",
       "    .dataframe tbody tr th:only-of-type {\n",
       "        vertical-align: middle;\n",
       "    }\n",
       "\n",
       "    .dataframe tbody tr th {\n",
       "        vertical-align: top;\n",
       "    }\n",
       "\n",
       "    .dataframe thead th {\n",
       "        text-align: right;\n",
       "    }\n",
       "</style>\n",
       "<table border=\"1\" class=\"dataframe\">\n",
       "  <thead>\n",
       "    <tr style=\"text-align: right;\">\n",
       "      <th></th>\n",
       "      <th>VIF</th>\n",
       "      <th>Tolerance</th>\n",
       "    </tr>\n",
       "  </thead>\n",
       "  <tbody>\n",
       "    <tr>\n",
       "      <th>const</th>\n",
       "      <td>13.049699</td>\n",
       "      <td>0.076630</td>\n",
       "    </tr>\n",
       "    <tr>\n",
       "      <th>rh2</th>\n",
       "      <td>82.061458</td>\n",
       "      <td>0.012186</td>\n",
       "    </tr>\n",
       "    <tr>\n",
       "      <th>econometria2</th>\n",
       "      <td>82.061458</td>\n",
       "      <td>0.012186</td>\n",
       "    </tr>\n",
       "  </tbody>\n",
       "</table>\n",
       "</div>"
      ],
      "text/plain": [
       "                    VIF  Tolerance\n",
       "const         13.049699   0.076630\n",
       "rh2           82.061458   0.012186\n",
       "econometria2  82.061458   0.012186"
      ]
     },
     "execution_count": 15,
     "metadata": {},
     "output_type": "execute_result"
    }
   ],
   "source": [
    "# Diagnóstico de multicolinearidade (Variance Inflation Factor e Tolerance)\n",
    "\n",
    "X = df_salarios[['rh2','econometria2']]\n",
    "X = sm.add_constant(X)\n",
    "\n",
    "vif = pd.Series([variance_inflation_factor(X.values, i)\n",
    "                 for i in range(X.shape[1])],index=X.columns)\n",
    "vif\n",
    "\n",
    "tolerance = 1/vif\n",
    "tolerance\n",
    "\n",
    "pd.concat([vif,tolerance], axis=1, keys=['VIF', 'Tolerance'])"
   ]
  }
 ],
 "metadata": {
  "kernelspec": {
   "display_name": "Python 3 (ipykernel)",
   "language": "python",
   "name": "python3"
  },
  "language_info": {
   "codemirror_mode": {
    "name": "ipython",
    "version": 3
   },
   "file_extension": ".py",
   "mimetype": "text/x-python",
   "name": "python",
   "nbconvert_exporter": "python",
   "pygments_lexer": "ipython3",
   "version": "3.10.9"
  }
 },
 "nbformat": 4,
 "nbformat_minor": 5
}
